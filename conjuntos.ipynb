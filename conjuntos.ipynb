{
 "cells": [
  {
   "cell_type": "markdown",
   "id": "b65c7364",
   "metadata": {},
   "source": [
    "# Conjuntos"
   ]
  },
  {
   "cell_type": "code",
   "execution_count": 5,
   "id": "1df2b8e6",
   "metadata": {},
   "outputs": [
    {
     "name": "stdout",
     "output_type": "stream",
     "text": [
      "{1, 2, 3, 4, 7, 8, 9, 11, 47}\n"
     ]
    }
   ],
   "source": [
    "# Criando um conjunto\n",
    "\n",
    "lista_1 = [8,1,2,3,3,3,4,7,9,11, 8,47,1]\n",
    "conjunto_1 = set(lista_1)\n",
    "\n",
    "print(conjunto_1)"
   ]
  },
  {
   "cell_type": "code",
   "execution_count": 8,
   "id": "b5034355",
   "metadata": {},
   "outputs": [
    {
     "name": "stdout",
     "output_type": "stream",
     "text": [
      "{0, 1, 3, 5, 23, -2}\n"
     ]
    }
   ],
   "source": [
    "conjunto_2 = {1,3,3,5,5,0,0,23,-2}\n",
    "\n",
    "print(conjunto_2)"
   ]
  },
  {
   "cell_type": "code",
   "execution_count": 15,
   "id": "3dffbdda",
   "metadata": {},
   "outputs": [
    {
     "name": "stdout",
     "output_type": "stream",
     "text": [
      "{0, 1, 3, 5, 23, 600, -2}\n"
     ]
    }
   ],
   "source": [
    "conjunto_2.add(600)\n",
    "\n",
    "print(conjunto_2)"
   ]
  },
  {
   "cell_type": "code",
   "execution_count": 16,
   "id": "e9fd6ce6",
   "metadata": {},
   "outputs": [
    {
     "name": "stdout",
     "output_type": "stream",
     "text": [
      "{0, 1, 3, 5, 23, -2}\n"
     ]
    }
   ],
   "source": [
    "conjunto_2.remove(600)\n",
    "\n",
    "print(conjunto_2)"
   ]
  },
  {
   "cell_type": "code",
   "execution_count": null,
   "id": "85fc89b2",
   "metadata": {},
   "outputs": [],
   "source": []
  }
 ],
 "metadata": {
  "kernelspec": {
   "display_name": "Python 3 (ipykernel)",
   "language": "python",
   "name": "python3"
  },
  "language_info": {
   "codemirror_mode": {
    "name": "ipython",
    "version": 3
   },
   "file_extension": ".py",
   "mimetype": "text/x-python",
   "name": "python",
   "nbconvert_exporter": "python",
   "pygments_lexer": "ipython3",
   "version": "3.10.9"
  }
 },
 "nbformat": 4,
 "nbformat_minor": 5
}
